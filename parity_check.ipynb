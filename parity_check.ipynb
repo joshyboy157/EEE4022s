{
 "cells": [
  {
   "cell_type": "markdown",
   "id": "cefd8a3b",
   "metadata": {},
   "source": [
    "First simulate a lossy transmission then add parity bits to detect errors in the transmission"
   ]
  },
  {
   "cell_type": "code",
   "execution_count": 12,
   "id": "b7f12c00",
   "metadata": {},
   "outputs": [],
   "source": [
    "using Random\n",
    "using Distributions"
   ]
  },
  {
   "cell_type": "code",
   "execution_count": 110,
   "id": "1e974cfd",
   "metadata": {},
   "outputs": [
    {
     "name": "stdout",
     "output_type": "stream",
     "text": [
      "input = Bool[0, 0, 1, 1, 0, 1, 1, 1, 0, 0, 0, 0, 1, 0, 1, 0, 0, 1, 1, 0, 1, 0, 1, 1, 0, 0, 1, 1, 1, 1, 0, 1, 0, 1, 0, 0, 1, 1, 0, 0, 1, 1, 0, 0, 1, 0, 1, 0, 1, 0, 0, 0, 1, 1, 0, 0, 0, 1, 0, 1, 0, 0, 1, 0, 0, 0, 0, 1, 0, 1, 1, 0, 1, 0, 1, 0, 1, 0, 0, 1, 1, 1, 0, 0, 0, 0, 1, 0, 0, 1, 0, 0, 1, 0, 1, 0, 1, 0, 1]\n"
     ]
    },
    {
     "data": {
      "text/plain": [
       "99-element BitVector:\n",
       " 0\n",
       " 0\n",
       " 1\n",
       " 1\n",
       " 0\n",
       " 1\n",
       " 1\n",
       " 1\n",
       " 0\n",
       " 0\n",
       " 0\n",
       " 0\n",
       " 1\n",
       " ⋮\n",
       " 0\n",
       " 0\n",
       " 1\n",
       " 0\n",
       " 0\n",
       " 1\n",
       " 0\n",
       " 1\n",
       " 0\n",
       " 1\n",
       " 0\n",
       " 1"
      ]
     },
     "execution_count": 110,
     "metadata": {},
     "output_type": "execute_result"
    }
   ],
   "source": [
    "rng = MersenneTwister(1234)\n",
    "input = bitrand(rng,99)\n",
    "@show input"
   ]
  },
  {
   "cell_type": "code",
   "execution_count": 111,
   "id": "625b3ba0",
   "metadata": {},
   "outputs": [
    {
     "name": "stdout",
     "output_type": "stream",
     "text": [
      "input = Bool[0, 0, 1, 1, 0, 1, 1, 1, 0, 0, 0, 0, 1, 0, 1, 0, 0, 1, 1, 0, 1, 0, 1, 1, 0, 0, 1, 1, 1, 1, 0, 1, 0, 1, 0, 0, 1, 1, 0, 0, 1, 1, 0, 0, 1, 0, 1, 0, 1, 0, 0, 0, 1, 1, 0, 0, 0, 1, 0, 1, 0, 0, 1, 0, 0, 0, 0, 1, 0, 1, 1, 0, 1, 0, 1, 0, 1, 0, 0, 1, 1, 1, 0, 0, 0, 0, 1, 0, 0, 1, 0, 0, 1, 0, 1, 0, 1, 0, 1]\n",
      "d = [0.0, 0.0, 1.0, 1.0, 1.0, 0.0, 1.0, 0.0, 1.0, 1.0, 0.0, 0.0, 0.0, 0.0, 0.0, 0.0, 1.0, 0.0, 1.0, 0.0, 0.0, 0.0, 1.0, 1.0, 1.0, 0.0, 1.0, 0.0, 0.0, 1.0, 1.0, 0.0, 0.0, 0.0, 1.0, 1.0, 1.0, 1.0, 1.0, 1.0, 0.0, 1.0, 0.0, 1.0, 1.0, 0.0, 0.0, 1.0, 1.0, 1.0, 0.0, 0.0, 0.0, 1.0, 1.0, 0.0, 0.0, 0.0, 1.0, 1.0, 0.0, 1.0, 0.0, 1.0, 1.0, 0.0, 0.0, 1.0, 0.0, 1.0, 1.0, 0.0, 0.0, 0.0, 0.0, 0.0, 1.0, 0.0, 1.0, 0.0, 0.0, 0.0, 1.0, 1.0, 0.0, 0.0, 0.0, 0.0, 0.0, 1.0, 0.0, 1.0, 1.0, 1.0, 0.0, 0.0, 1.0, 0.0, 1.0, 0.0, 0.0, 1.0, 0.0, 1.0, 0.0, 1.0, 1.0, 0.0, 1.0, 0.0, 0.0, 1.0, 0.0, 0.0, 1.0, 1.0, 0.0, 0.0, 1.0, 1.0, 0.0, 0.0, 1.0, 1.0, 0.0, 1.0, 0.0, 1.0, 1.0, 0.0, 1.0, 0.0]\n"
     ]
    },
    {
     "data": {
      "text/plain": [
       "132-element Vector{Float64}:\n",
       " 0.0\n",
       " 0.0\n",
       " 1.0\n",
       " 1.0\n",
       " 1.0\n",
       " 0.0\n",
       " 1.0\n",
       " 0.0\n",
       " 1.0\n",
       " 1.0\n",
       " 0.0\n",
       " 0.0\n",
       " 0.0\n",
       " ⋮\n",
       " 0.0\n",
       " 0.0\n",
       " 1.0\n",
       " 1.0\n",
       " 0.0\n",
       " 1.0\n",
       " 0.0\n",
       " 1.0\n",
       " 1.0\n",
       " 0.0\n",
       " 1.0\n",
       " 0.0"
      ]
     },
     "execution_count": 111,
     "metadata": {},
     "output_type": "execute_result"
    }
   ],
   "source": [
    "b = 99/3\n",
    "b += 99\n",
    "d = zeros(132)\n",
    "par_sum = 0\n",
    "count = 0\n",
    "iter = 1\n",
    "for i in input\n",
    "    d[iter] = i\n",
    "    count += 1\n",
    "    par_sum += i\n",
    "    if count%3 == 0\n",
    "        iter += 1\n",
    "        par = par_sum%2\n",
    "        par_sum = 0\n",
    "        d[iter] = par\n",
    "        count = 0\n",
    "    end\n",
    "    iter += 1\n",
    "end\n",
    "\n",
    "#correctly adds a even parity bit after 3 bits\n",
    "@show input\n",
    "@show d"
   ]
  },
  {
   "cell_type": "code",
   "execution_count": 112,
   "id": "0e83d7ca",
   "metadata": {},
   "outputs": [
    {
     "name": "stdout",
     "output_type": "stream",
     "text": [
      "sent = [-1.0, -1.0, 1.0, 1.0, 1.0, -1.0, 1.0, -1.0, 1.0, 1.0, -1.0, -1.0, -1.0, -1.0, -1.0, -1.0, 1.0, -1.0, 1.0, -1.0, -1.0, -1.0, 1.0, 1.0, 1.0, -1.0, 1.0, -1.0, -1.0, 1.0, 1.0, -1.0, -1.0, -1.0, 1.0, 1.0, 1.0, 1.0, 1.0, 1.0, -1.0, 1.0, -1.0, 1.0, 1.0, -1.0, -1.0, 1.0, 1.0, 1.0, -1.0, -1.0, -1.0, 1.0, 1.0, -1.0, -1.0, -1.0, 1.0, 1.0, -1.0, 1.0, -1.0, 1.0, 1.0, -1.0, -1.0, 1.0, -1.0, 1.0, 1.0, -1.0, -1.0, -1.0, -1.0, -1.0, 1.0, -1.0, 1.0, -1.0, -1.0, -1.0, 1.0, 1.0, -1.0, -1.0, -1.0, -1.0, -1.0, 1.0, -1.0, 1.0, 1.0, 1.0, -1.0, -1.0, 1.0, -1.0, 1.0, -1.0, -1.0, 1.0, -1.0, 1.0, -1.0, 1.0, 1.0, -1.0, 1.0, -1.0, -1.0, 1.0, -1.0, -1.0, 1.0, 1.0, -1.0, -1.0, 1.0, 1.0, -1.0, -1.0, 1.0, 1.0, -1.0, 1.0, -1.0, 1.0, 1.0, -1.0, 1.0, -1.0]\n"
     ]
    },
    {
     "data": {
      "text/plain": [
       "132-element Vector{Float64}:\n",
       " -1.0\n",
       " -1.0\n",
       "  1.0\n",
       "  1.0\n",
       "  1.0\n",
       " -1.0\n",
       "  1.0\n",
       " -1.0\n",
       "  1.0\n",
       "  1.0\n",
       " -1.0\n",
       " -1.0\n",
       " -1.0\n",
       "  ⋮\n",
       " -1.0\n",
       " -1.0\n",
       "  1.0\n",
       "  1.0\n",
       " -1.0\n",
       "  1.0\n",
       " -1.0\n",
       "  1.0\n",
       "  1.0\n",
       " -1.0\n",
       "  1.0\n",
       " -1.0"
      ]
     },
     "execution_count": 112,
     "metadata": {},
     "output_type": "execute_result"
    }
   ],
   "source": [
    "# now add noise to signal\n",
    "sent = zeros(length(d))\n",
    "for i in 1:length(d)\n",
    "    if d[i] == 0\n",
    "        sent[i] = -1\n",
    "    else\n",
    "        sent[i] = 1\n",
    "    end\n",
    "end\n",
    "\n",
    "@show sent"
   ]
  },
  {
   "cell_type": "code",
   "execution_count": 121,
   "id": "3e093cea",
   "metadata": {},
   "outputs": [
    {
     "data": {
      "text/plain": [
       "132-element Vector{Float64}:\n",
       "  0.05215571163613486\n",
       " -2.475904237328928\n",
       "  0.154374299061995\n",
       "  0.8415285242515349\n",
       " -0.8590156668620809\n",
       " -1.7084113466889816\n",
       "  2.2184506057155695\n",
       " -0.22728604529208501\n",
       " -0.3212981234794021\n",
       "  1.8422012794681204\n",
       " -1.0885171523607375\n",
       " -1.678372001480624\n",
       "  0.869509288790846\n",
       "  ⋮\n",
       " -1.9599498656862893\n",
       " -2.060261030732086\n",
       "  1.8435489185020082\n",
       "  0.32063278440862086\n",
       " -1.1715898964827443\n",
       " -1.0176983889515956\n",
       " -0.44883418546445286\n",
       " -0.1433938577744598\n",
       "  2.2103429681561284\n",
       " -0.6464291869217148\n",
       "  0.7783804202586061\n",
       "  0.4849306222014105"
      ]
     },
     "execution_count": 121,
     "metadata": {},
     "output_type": "execute_result"
    }
   ],
   "source": [
    "#this isnt working too nicely\n",
    "b = rand(Uniform(-1,1),132)\n",
    "SNR = -8\n",
    "sigma = 1/sqrt(10^(SNR/10)*2)\n",
    "#make a term for the snr\n",
    "b = b*sigma\n",
    "sent = sent+b\n",
    "\n",
    "\n",
    "#@show sent\n",
    "# if rand number < 0.1 toggle bit"
   ]
  },
  {
   "cell_type": "code",
   "execution_count": 1,
   "id": "c7769991",
   "metadata": {},
   "outputs": [
    {
     "data": {
      "text/plain": [
       "0.8541430488338433"
      ]
     },
     "execution_count": 1,
     "metadata": {},
     "output_type": "execute_result"
    }
   ],
   "source": [
    "prob_bit_err = 0.1\n",
    "if rand() < prob_bit_error\n",
    "    #sent toggle suit"
   ]
  },
  {
   "cell_type": "code",
   "execution_count": 122,
   "id": "35f52502",
   "metadata": {},
   "outputs": [
    {
     "name": "stdout",
     "output_type": "stream",
     "text": [
      "d = [0.0, 0.0, 1.0, 1.0, 1.0, 0.0, 1.0, 0.0, 1.0, 1.0, 0.0, 0.0, 0.0, 0.0, 0.0, 0.0, 1.0, 0.0, 1.0, 0.0, 0.0, 0.0, 1.0, 1.0, 1.0, 0.0, 1.0, 0.0, 0.0, 1.0, 1.0, 0.0, 0.0, 0.0, 1.0, 1.0, 1.0, 1.0, 1.0, 1.0, 0.0, 1.0, 0.0, 1.0, 1.0, 0.0, 0.0, 1.0, 1.0, 1.0, 0.0, 0.0, 0.0, 1.0, 1.0, 0.0, 0.0, 0.0, 1.0, 1.0, 0.0, 1.0, 0.0, 1.0, 1.0, 0.0, 0.0, 1.0, 0.0, 1.0, 1.0, 0.0, 0.0, 0.0, 0.0, 0.0, 1.0, 0.0, 1.0, 0.0, 0.0, 0.0, 1.0, 1.0, 0.0, 0.0, 0.0, 0.0, 0.0, 1.0, 0.0, 1.0, 1.0, 1.0, 0.0, 0.0, 1.0, 0.0, 1.0, 0.0, 0.0, 1.0, 0.0, 1.0, 0.0, 1.0, 1.0, 0.0, 1.0, 0.0, 0.0, 1.0, 0.0, 0.0, 1.0, 1.0, 0.0, 0.0, 1.0, 1.0, 0.0, 0.0, 1.0, 1.0, 0.0, 1.0, 0.0, 1.0, 1.0, 0.0, 1.0, 0.0]\n",
      "rec = [1.0, 0.0, 1.0, 1.0, 0.0, 0.0, 1.0, 0.0, 0.0, 1.0, 0.0, 0.0, 1.0, 0.0, 0.0, 1.0, 1.0, 1.0, 0.0, 0.0, 0.0, 0.0, 1.0, 0.0, 1.0, 0.0, 1.0, 0.0, 1.0, 1.0, 1.0, 1.0, 0.0, 0.0, 1.0, 1.0, 1.0, 1.0, 1.0, 1.0, 0.0, 1.0, 0.0, 1.0, 1.0, 0.0, 0.0, 0.0, 1.0, 0.0, 0.0, 0.0, 0.0, 0.0, 1.0, 0.0, 1.0, 0.0, 1.0, 1.0, 0.0, 0.0, 1.0, 1.0, 0.0, 1.0, 0.0, 1.0, 1.0, 1.0, 1.0, 0.0, 0.0, 0.0, 0.0, 0.0, 1.0, 0.0, 0.0, 0.0, 1.0, 0.0, 1.0, 1.0, 1.0, 0.0, 0.0, 0.0, 0.0, 1.0, 0.0, 0.0, 1.0, 0.0, 0.0, 0.0, 1.0, 0.0, 1.0, 0.0, 0.0, 1.0, 0.0, 1.0, 1.0, 1.0, 1.0, 0.0, 1.0, 0.0, 0.0, 1.0, 0.0, 0.0, 1.0, 1.0, 0.0, 0.0, 1.0, 0.0, 0.0, 0.0, 1.0, 1.0, 0.0, 0.0, 0.0, 0.0, 1.0, 0.0, 1.0, 1.0]\n"
     ]
    },
    {
     "data": {
      "text/plain": [
       "132-element Vector{Float64}:\n",
       " 1.0\n",
       " 0.0\n",
       " 1.0\n",
       " 1.0\n",
       " 0.0\n",
       " 0.0\n",
       " 1.0\n",
       " 0.0\n",
       " 0.0\n",
       " 1.0\n",
       " 0.0\n",
       " 0.0\n",
       " 1.0\n",
       " ⋮\n",
       " 0.0\n",
       " 0.0\n",
       " 1.0\n",
       " 1.0\n",
       " 0.0\n",
       " 0.0\n",
       " 0.0\n",
       " 0.0\n",
       " 1.0\n",
       " 0.0\n",
       " 1.0\n",
       " 1.0"
      ]
     },
     "execution_count": 122,
     "metadata": {},
     "output_type": "execute_result"
    }
   ],
   "source": [
    "# now demod and make a decision\n",
    "rec = zeros(length(sent))\n",
    "\n",
    "for i in 1:length(sent)\n",
    "    if sent[i]>0\n",
    "        rec[i] = 1\n",
    "    else\n",
    "        rec[i] = 0\n",
    "    end\n",
    "end\n",
    "\n",
    "@show d\n",
    "@show rec"
   ]
  },
  {
   "cell_type": "code",
   "execution_count": 123,
   "id": "7f368839",
   "metadata": {},
   "outputs": [
    {
     "name": "stdout",
     "output_type": "stream",
     "text": [
      "29"
     ]
    }
   ],
   "source": [
    "#differences between sent and recieved now for decoding\n",
    "count = 0\n",
    "for i in 1:length(rec)\n",
    "    if rec[i]!=d[i]\n",
    "        count+=1\n",
    "    end\n",
    "end\n",
    "print(count)\n"
   ]
  },
  {
   "cell_type": "code",
   "execution_count": 124,
   "id": "06d73c29",
   "metadata": {},
   "outputs": [
    {
     "name": "stdout",
     "output_type": "stream",
     "text": [
      "par_count = 33\n",
      "output = [1.0, 0.0, 1.0, 0.0, 0.0, 1.0, 0.0, 1.0, 0.0, 1.0, 0.0, 0.0, 1.0, 1.0, 0.0, 0.0, 0.0, 1.0, 1.0, 0.0, 1.0, 1.0, 1.0, 1.0, 0.0, 0.0, 1.0, 1.0, 1.0, 1.0, 0.0, 1.0, 0.0, 1.0, 0.0, 0.0, 1.0, 0.0, 0.0, 0.0, 0.0, 1.0, 1.0, 0.0, 1.0, 0.0, 0.0, 1.0, 0.0, 1.0, 0.0, 1.0, 1.0, 1.0, 0.0, 0.0, 0.0, 1.0, 0.0, 0.0, 1.0, 0.0, 1.0, 1.0, 0.0, 0.0, 0.0, 1.0, 0.0, 1.0, 0.0, 0.0, 1.0, 0.0, 1.0, 0.0, 1.0, 0.0, 1.0, 1.0, 1.0, 1.0, 0.0, 0.0, 0.0, 0.0, 1.0, 0.0, 0.0, 1.0, 0.0, 0.0, 1.0, 0.0, 0.0, 0.0, 1.0, 0.0, 1.0]\n",
      "input = Bool[0, 0, 1, 1, 0, 1, 1, 1, 0, 0, 0, 0, 1, 0, 1, 0, 0, 1, 1, 0, 1, 0, 1, 1, 0, 0, 1, 1, 1, 1, 0, 1, 0, 1, 0, 0, 1, 1, 0, 0, 1, 1, 0, 0, 1, 0, 1, 0, 1, 0, 0, 0, 1, 1, 0, 0, 0, 1, 0, 1, 0, 0, 1, 0, 0, 0, 0, 1, 0, 1, 1, 0, 1, 0, 1, 0, 1, 0, 0, 1, 1, 1, 0, 0, 0, 0, 1, 0, 0, 1, 0, 0, 1, 0, 1, 0, 1, 0, 1]\n"
     ]
    },
    {
     "data": {
      "text/plain": [
       "99-element BitVector:\n",
       " 0\n",
       " 0\n",
       " 1\n",
       " 1\n",
       " 0\n",
       " 1\n",
       " 1\n",
       " 1\n",
       " 0\n",
       " 0\n",
       " 0\n",
       " 0\n",
       " 1\n",
       " ⋮\n",
       " 0\n",
       " 0\n",
       " 1\n",
       " 0\n",
       " 0\n",
       " 1\n",
       " 0\n",
       " 1\n",
       " 0\n",
       " 1\n",
       " 0\n",
       " 1"
      ]
     },
     "execution_count": 124,
     "metadata": {},
     "output_type": "execute_result"
    }
   ],
   "source": [
    "# need to remove parity bit and say if theres an error in the codeword\n",
    "output = zeros(99)\n",
    "par_count = 0 \n",
    "\n",
    "for i in 1:length(rec)\n",
    "    if i%4 == 0\n",
    "        par_count+=1\n",
    "    else\n",
    "        output[i-par_count] = rec[i]\n",
    "    end\n",
    "  \n",
    "end\n",
    "\n",
    "\n",
    "\n",
    "@show par_count\n",
    "\n",
    "@show output\n",
    "@show input\n"
   ]
  },
  {
   "cell_type": "code",
   "execution_count": 125,
   "id": "c1161d07",
   "metadata": {},
   "outputs": [
    {
     "name": "stdout",
     "output_type": "stream",
     "text": [
      "errors = 21\n",
      "parity_bit_errors = 8\n"
     ]
    },
    {
     "data": {
      "text/plain": [
       "8"
      ]
     },
     "execution_count": 125,
     "metadata": {},
     "output_type": "execute_result"
    }
   ],
   "source": [
    "#count errors\n",
    "errors = 0\n",
    "\n",
    "for i in 1:length(output)\n",
    "    if output[i] != input[i]\n",
    "        errors+=1\n",
    "    end\n",
    "end\n",
    "\n",
    "parity_bit_errors = count-errors\n",
    "@show errors\n",
    "@show parity_bit_errors"
   ]
  },
  {
   "cell_type": "code",
   "execution_count": 126,
   "id": "3e2aa88f",
   "metadata": {},
   "outputs": [
    {
     "name": "stdout",
     "output_type": "stream",
     "text": [
      "actual_err = [1.0, 1.0, 1.0, 1.0, 1.0, 1.0, 0.0, 1.0, 0.0, 0.0, 0.0, 1.0, 1.0, 1.0, 1.0, 1.0, 1.0, 1.0, 0.0, 1.0, 1.0, 1.0, 1.0, 1.0, 0.0, 0.0, 1.0, 0.0, 0.0, 1.0, 0.0, 1.0, 1.0]\n",
      "numoferrors = [1.0, 1.0, 1.0, 0.0, 0.0, 1.0, 0.0, 0.0, 0.0, 0.0, 0.0, 1.0, 1.0, 1.0, 1.0, 0.0, 0.0, 1.0, 0.0, 1.0, 1.0, 1.0, 1.0, 1.0, 0.0, 0.0, 1.0, 0.0, 0.0, 1.0, 0.0, 0.0, 1.0]\n"
     ]
    },
    {
     "data": {
      "text/plain": [
       "33-element Vector{Float64}:\n",
       " 1.0\n",
       " 1.0\n",
       " 1.0\n",
       " 0.0\n",
       " 0.0\n",
       " 1.0\n",
       " 0.0\n",
       " 0.0\n",
       " 0.0\n",
       " 0.0\n",
       " 0.0\n",
       " 1.0\n",
       " 1.0\n",
       " ⋮\n",
       " 1.0\n",
       " 1.0\n",
       " 1.0\n",
       " 0.0\n",
       " 0.0\n",
       " 1.0\n",
       " 0.0\n",
       " 0.0\n",
       " 1.0\n",
       " 0.0\n",
       " 0.0\n",
       " 1.0"
      ]
     },
     "execution_count": 126,
     "metadata": {},
     "output_type": "execute_result"
    }
   ],
   "source": [
    "# now to see if the parity bits correctly find the errors\n",
    "# code words 0 means no error, 1 means error but parity check detected it,2 means no error but parity bit\n",
    "# detected an error, 3 means error but its undetected\n",
    "its = 99/3\n",
    "actual_err = zeros(33)\n",
    "numoferrors = zeros(33)\n",
    "inarr = zeros(4)\n",
    "outarr = zeros(4)\n",
    "checksum = 0\n",
    "for i in 1:its\n",
    "    p = (i-1)*4+1\n",
    "    p = Int(p)\n",
    "    inarr= d[p:p+3]\n",
    "    outarr = rec[p:p+3]\n",
    "    if inarr != outarr\n",
    "        actual_err[Int(i)] = 1\n",
    "    end\n",
    "    for r in 1:4\n",
    "        checksum += outarr[r]\n",
    "        if r%4 == 0\n",
    "            if checksum %2 != 0\n",
    "                numoferrors[Int(i)]=1\n",
    "            end\n",
    "            checksum = 0\n",
    "        end\n",
    "            \n",
    "    end\n",
    "    #print(inarr)\n",
    "    #print(outarr)\n",
    "end\n",
    "\n",
    "@show actual_err\n",
    "@show numoferrors"
   ]
  },
  {
   "cell_type": "code",
   "execution_count": 127,
   "id": "ef2314d1",
   "metadata": {},
   "outputs": [],
   "source": [
    "# i will go 1 2 3 4 5 6\n",
    "# want 1 5 9 13 \n",
    "# relation = (i-1)*4+1"
   ]
  },
  {
   "cell_type": "code",
   "execution_count": 135,
   "id": "5dadd183",
   "metadata": {},
   "outputs": [
    {
     "name": "stdout",
     "output_type": "stream",
     "text": [
      "rec = [1.0, 0.0, 1.0, 1.0, 0.0, 0.0, 1.0, 0.0, 0.0, 1.0, 0.0, 0.0, 1.0, 0.0, 0.0, 1.0, 1.0, 1.0, 0.0, 0.0, 0.0, 0.0, 1.0, 0.0, 1.0, 0.0, 1.0, 0.0, 1.0, 1.0, 1.0, 1.0, 0.0, 0.0, 1.0, 1.0, 1.0, 1.0, 1.0, 1.0, 0.0, 1.0, 0.0, 1.0, 1.0, 0.0, 0.0, 0.0, 1.0, 0.0, 0.0, 0.0, 0.0, 0.0, 1.0, 0.0, 1.0, 0.0, 1.0, 1.0, 0.0, 0.0, 1.0, 1.0, 0.0, 1.0, 0.0, 1.0, 1.0, 1.0, 1.0, 0.0, 0.0, 0.0, 0.0, 0.0, 1.0, 0.0, 0.0, 0.0, 1.0, 0.0, 1.0, 1.0, 1.0, 0.0, 0.0, 0.0, 0.0, 1.0, 0.0, 0.0, 1.0, 0.0, 0.0, 0.0, 1.0, 0.0, 1.0, 0.0, 0.0, 1.0, 0.0, 1.0, 1.0, 1.0, 1.0, 0.0, 1.0, 0.0, 0.0, 1.0, 0.0, 0.0, 1.0, 1.0, 0.0, 0.0, 1.0, 0.0, 0.0, 0.0, 1.0, 1.0, 0.0, 0.0, 0.0, 0.0, 1.0, 0.0, 1.0, 1.0]\n",
      "output_bits = [1.0, 0.0, 1.0, 0.0, 0.0, 1.0, 0.0, 1.0, 0.0, 1.0, 0.0, 0.0, 1.0, 1.0, 0.0, 0.0, 0.0, 1.0, 1.0, 0.0, 1.0, 1.0, 1.0, 1.0, 0.0, 0.0, 1.0, 1.0, 1.0, 1.0, 0.0, 1.0, 0.0, 1.0, 0.0, 0.0, 1.0, 0.0, 0.0, 0.0, 0.0, 1.0, 1.0, 0.0, 1.0, 0.0, 0.0, 1.0, 0.0, 1.0, 0.0, 1.0, 1.0, 1.0, 0.0, 0.0, 0.0, 1.0, 0.0, 0.0, 1.0, 0.0, 1.0, 1.0, 0.0, 0.0, 0.0, 1.0, 0.0, 1.0, 0.0, 0.0, 1.0, 0.0, 1.0, 0.0, 1.0, 0.0, 1.0, 1.0, 1.0, 1.0, 0.0, 0.0, 0.0, 0.0, 1.0, 0.0, 0.0, 1.0, 0.0, 0.0, 1.0, 0.0, 0.0, 0.0, 1.0, 0.0, 1.0]\n"
     ]
    },
    {
     "data": {
      "text/plain": [
       "99-element Vector{Float64}:\n",
       " 1.0\n",
       " 0.0\n",
       " 1.0\n",
       " 0.0\n",
       " 0.0\n",
       " 1.0\n",
       " 0.0\n",
       " 1.0\n",
       " 0.0\n",
       " 1.0\n",
       " 0.0\n",
       " 0.0\n",
       " 1.0\n",
       " ⋮\n",
       " 0.0\n",
       " 0.0\n",
       " 1.0\n",
       " 0.0\n",
       " 0.0\n",
       " 1.0\n",
       " 0.0\n",
       " 0.0\n",
       " 0.0\n",
       " 1.0\n",
       " 0.0\n",
       " 1.0"
      ]
     },
     "execution_count": 135,
     "metadata": {},
     "output_type": "execute_result"
    }
   ],
   "source": [
    "# now remove parity bits and see how many of the actual message bits were detected correctly,incorrectly or missed\n",
    "output_bits =zeros(99)\n",
    "count = 0\n",
    "for i in 1:length(rec)\n",
    "    if i%4 == 0\n",
    "        count+=1\n",
    "    else\n",
    "        output_bits[i-count] = rec[i]\n",
    "    end\n",
    "end\n",
    "\n",
    "@show rec\n",
    "@show output_bits"
   ]
  },
  {
   "cell_type": "code",
   "execution_count": 128,
   "id": "c017a0e8",
   "metadata": {},
   "outputs": [
    {
     "name": "stdout",
     "output_type": "stream",
     "text": [
      "detected = 17\n",
      "undetected = 6\n",
      "wrong_err = 0\n"
     ]
    },
    {
     "data": {
      "text/plain": [
       "0"
      ]
     },
     "execution_count": 128,
     "metadata": {},
     "output_type": "execute_result"
    }
   ],
   "source": [
    "# now know locations of detected errors\n",
    "# and locations of actual errors\n",
    "detected = 0\n",
    "undetected = 0\n",
    "wrong_err = 0\n",
    "\n",
    "\n",
    "for i in 1:length(actual_err)\n",
    "    if actual_err[i] == 1 && numoferrors[i] == 1\n",
    "        detected += 1\n",
    "    end\n",
    "    \n",
    "    if actual_err[i] == 1 && numoferrors[i] == 0\n",
    "        undetected += 1\n",
    "    end\n",
    "    \n",
    "    if actual_err[i] == 0 && numoferrors[i] == 1\n",
    "        wrong_err += 1\n",
    "    end\n",
    "end\n",
    "    \n",
    "    \n",
    "@show detected\n",
    "@show undetected\n",
    "@show wrong_err"
   ]
  },
  {
   "cell_type": "code",
   "execution_count": 134,
   "id": "d24b0fa4",
   "metadata": {},
   "outputs": [],
   "source": [
    "# so nows i have the output message bits and the locations of the errors so lets group them in threes and see\n",
    "# how how many errors were correctly handled\n",
    "# first some code words\n",
    "# 00 means the output message matches the input message and no error\n",
    "# 10 out==in and error\n",
    "# 01 means out!=in and no error\n",
    "# 11 out!=in and error detected\n",
    "\n",
    "\n",
    "# i will go 1 2 3 4 5 6\n",
    "# want 1 4 7 10 \n",
    "# relation = (i-1)*3+1\n",
    "\n",
    "in1 = zeros(3)\n",
    "out1 = zeros(3)\n",
    "\n",
    "\n",
    "for i in 1:length(33)\n",
    "    l = 0\n",
    "    q = (i-1)*3+1\n",
    "    Int(q)\n",
    "    in1 = input[q:q+2]\n",
    "    out1 = output_bits[q:q+2]\n",
    "    if in1 != out1\n",
    "        l+=1\n",
    "    end\n",
    "    if \n",
    "end\n"
   ]
  },
  {
   "cell_type": "code",
   "execution_count": null,
   "id": "78273ab7",
   "metadata": {},
   "outputs": [],
   "source": []
  }
 ],
 "metadata": {
  "kernelspec": {
   "display_name": "Julia 1.6.2",
   "language": "julia",
   "name": "julia-1.6"
  },
  "language_info": {
   "file_extension": ".jl",
   "mimetype": "application/julia",
   "name": "julia",
   "version": "1.6.2"
  }
 },
 "nbformat": 4,
 "nbformat_minor": 5
}
