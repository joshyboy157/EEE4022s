{
 "cells": [
  {
   "cell_type": "code",
   "execution_count": 1,
   "id": "7e87bd8b",
   "metadata": {},
   "outputs": [],
   "source": [
    "using Random\n",
    "using Distributions"
   ]
  },
  {
   "cell_type": "markdown",
   "id": "1bfc0b39",
   "metadata": {},
   "source": [
    "Simulation for the implementation of hamming error correction code"
   ]
  },
  {
   "cell_type": "code",
   "execution_count": 2,
   "id": "69869ada",
   "metadata": {},
   "outputs": [
    {
     "data": {
      "text/plain": [
       "red_bits (generic function with 1 method)"
      ]
     },
     "execution_count": 2,
     "metadata": {},
     "output_type": "execute_result"
    }
   ],
   "source": [
    "# this function calculates how many parity bits will be needed\n",
    "\n",
    "function red_bits(x)\n",
    "    for i in 1:length(x)\n",
    "        if 2^i >= length(x) + i + 1\n",
    "            return i\n",
    "        end\n",
    "    end\n",
    "end"
   ]
  },
  {
   "cell_type": "code",
   "execution_count": 3,
   "id": "1e816c0e",
   "metadata": {},
   "outputs": [
    {
     "data": {
      "text/plain": [
       "pos_red (generic function with 1 method)"
      ]
     },
     "execution_count": 3,
     "metadata": {},
     "output_type": "execute_result"
    }
   ],
   "source": [
    "# this function determines the location of the data bits withing the codeword\n",
    "\n",
    "function pos_red(data,red)\n",
    "    a = 0\n",
    "    b = 1\n",
    "    c = length(data)\n",
    "    res = zeros(c+red)\n",
    "    res =round.(Int, res)\n",
    "    data = reverse(data)\n",
    "    # 7+4+1 = 12\n",
    "    for i in 1:(c+red+1)\n",
    "        if(i == 2^a )# a<red) # 1 2 4 8 16 32\n",
    "            #res = res * \"0\"\n",
    "            a+=1\n",
    "        else #3 5 6 7 9 10 11 12\n",
    "            if (b <= c)\n",
    "                res[i] = data[b]\n",
    "                b += 1\n",
    "            end\n",
    "        end\n",
    "    end\n",
    "    return reverse(res)\n",
    "end\n",
    "\n",
    "    "
   ]
  },
  {
   "cell_type": "code",
   "execution_count": 4,
   "id": "66957330",
   "metadata": {},
   "outputs": [
    {
     "data": {
      "text/plain": [
       "par (generic function with 1 method)"
      ]
     },
     "execution_count": 4,
     "metadata": {},
     "output_type": "execute_result"
    }
   ],
   "source": [
    "function par(data,red)\n",
    "    R1 = (1,3)\n",
    "    u = Int(length(data))\n",
    "    out = zeros(u)\n",
    "    rdata = reverse(data)\n",
    "    for i in 1:red\n",
    "        a=0\n",
    "        for j in 1:u\n",
    "            if (j & 2^i) == 2^i\n",
    "                a= a^rdata[j]\n",
    "            end\n",
    "        end\n",
    "        \n",
    "        b=u-2^i\n",
    "        print(i)\n",
    "        println(b)\n",
    "       # if(b>0)\n",
    "        #    out[:b] = data[:b]\n",
    "        #end\n",
    "        \n",
    "    end\n",
    "            \n",
    "    return out\n",
    "\n",
    "\n",
    "end"
   ]
  },
  {
   "cell_type": "code",
   "execution_count": 5,
   "id": "a763f60d",
   "metadata": {},
   "outputs": [
    {
     "data": {
      "text/plain": [
       "par2 (generic function with 1 method)"
      ]
     },
     "execution_count": 5,
     "metadata": {},
     "output_type": "execute_result"
    }
   ],
   "source": [
    "function par2(data,red)\n",
    "    n = length(data)\n",
    "    rdata = reverse(data)\n",
    "    sum = 0\n",
    "    R1 = (1,3,5,7,9,11,13,15) # R1 = 1, 3, 5, 7, 9, 11\n",
    "    R2 = (2,3,6,7,10,11,14,15)# 2,3,6,7,10,11\n",
    "    R4 = (4,5,6,7,12,13,14,15) #4, 5, 6, 7\n",
    "    R8 = (8,9,10,11,12,13,14,15) # 8,9,10,11\n",
    "    for i in R1\n",
    "        if(i<=n)\n",
    "            sum += rdata[i]\n",
    "        end\n",
    "    end\n",
    "    sum = sum%2\n",
    "    rdata[1] = sum\n",
    "    sum = 0\n",
    "    for i in R2\n",
    "        if(i<=n)\n",
    "            sum += rdata[i]\n",
    "        end\n",
    "    end\n",
    "    rdata[2] = sum%2\n",
    "    sum = 0\n",
    "    for i in R4\n",
    "        if(i<=n)\n",
    "            sum += rdata[i]\n",
    "        end\n",
    "    end\n",
    "    rdata[4] = sum%2\n",
    "    sum = 0\n",
    "    for i in R8\n",
    "        if(i<=n)\n",
    "            sum += rdata[i]\n",
    "        end\n",
    "    end\n",
    "    rdata[8] = sum%2\n",
    "    sum = 0\n",
    "    \n",
    "    return reverse(rdata)\n",
    "    \n",
    "end\n"
   ]
  },
  {
   "cell_type": "code",
   "execution_count": 6,
   "id": "dae7402e",
   "metadata": {},
   "outputs": [
    {
     "data": {
      "text/plain": [
       "err_detect (generic function with 1 method)"
      ]
     },
     "execution_count": 6,
     "metadata": {},
     "output_type": "execute_result"
    }
   ],
   "source": [
    "function err_detect(data,u)\n",
    "    data_size = length(data)\n",
    "    pos = 0\n",
    "    rdata = reverse(data)\n",
    "    for i in 1:u\n",
    "        value = 0\n",
    "        for j in 1:data_size\n",
    "            if (j & 2^i) == 2^i\n",
    "                value = value^rdata[j]\n",
    "            end\n",
    "        end\n",
    "        \n",
    "        pos = pos + value*(10^i)\n",
    "    end\n",
    "    \n",
    "    return pos\n",
    "    \n",
    "end\n"
   ]
  },
  {
   "cell_type": "code",
   "execution_count": 7,
   "id": "f31391c8",
   "metadata": {},
   "outputs": [
    {
     "data": {
      "text/plain": [
       "err_detect1 (generic function with 1 method)"
      ]
     },
     "execution_count": 7,
     "metadata": {},
     "output_type": "execute_result"
    }
   ],
   "source": [
    "function err_detect1(data,u)\n",
    "    n=length(data)\n",
    "    R1 = (1,3,5,7,9,11,13,15) # R1 = 1, 3, 5, 7, 9, 11\n",
    "    R2 = (2,3,6,7,10,11,14,15)# 2,3,6,7,10,11\n",
    "    R4 = (4,5,6,7,12,13,14,15) #4, 5, 6, 7\n",
    "    R8 = (8,9,10,11,12,13,14,15) # 8,9,10,11\n",
    "    rdata = reverse(data)\n",
    "    err = 0\n",
    "    sum = 0\n",
    "    for i in R1\n",
    "        if(i<=n)\n",
    "            sum += rdata[i]\n",
    "        end\n",
    "    end\n",
    "    err = sum%2\n",
    "    sum = 0\n",
    "    for i in R2\n",
    "        if(i<=n)\n",
    "            sum += rdata[i]\n",
    "        end\n",
    "    end\n",
    "    err += (sum%2)*2\n",
    "    sum = 0\n",
    "    for i in R4\n",
    "        if(i<=n)\n",
    "            sum += rdata[i]\n",
    "        end\n",
    "    end\n",
    "    err += (sum%2)*4\n",
    "    sum = 0\n",
    "    for i in R8\n",
    "        if(i<=n)\n",
    "            sum += rdata[i]\n",
    "        end\n",
    "    end\n",
    "    err += (sum%2)*8\n",
    "    return err\n",
    "    \n",
    "end"
   ]
  },
  {
   "cell_type": "code",
   "execution_count": 8,
   "id": "6134d7b1",
   "metadata": {},
   "outputs": [
    {
     "name": "stdout",
     "output_type": "stream",
     "text": [
      "red_bits([1, 1, 1, 1, 1, 1]) = 4\n",
      "pos_red([1, 0, 1, 1, 0, 0, 1], 4) = [1, 0, 1, 0, 1, 0, 0, 0, 1, 0, 0]\n",
      "par2([1, 0, 1, 0, 1, 0, 0, 0, 1, 0, 0], 4) = [1, 0, 1, 0, 1, 0, 0, 1, 1, 1, 0]\n"
     ]
    },
    {
     "data": {
      "text/plain": [
       "11-element Vector{Int64}:\n",
       " 1\n",
       " 0\n",
       " 1\n",
       " 0\n",
       " 1\n",
       " 0\n",
       " 0\n",
       " 1\n",
       " 1\n",
       " 1\n",
       " 0"
      ]
     },
     "execution_count": 8,
     "metadata": {},
     "output_type": "execute_result"
    }
   ],
   "source": [
    "@show red_bits([1,1,1,1,1,1])\n",
    "@show pos_red([1,0,1,1,0,0,1],4)\n",
    "@show par2([1,0,1,0,1,0,0,0,1,0,0],4)\n",
    "# only use 7 bits"
   ]
  },
  {
   "cell_type": "code",
   "execution_count": 17,
   "id": "8265b491",
   "metadata": {},
   "outputs": [
    {
     "data": {
      "text/plain": [
       "6"
      ]
     },
     "execution_count": 17,
     "metadata": {},
     "output_type": "execute_result"
    }
   ],
   "source": [
    "\n",
    "err_detect1([1,0,1,0,1,1,0,1,1,1,0],4)"
   ]
  },
  {
   "cell_type": "markdown",
   "id": "90d560ed",
   "metadata": {},
   "source": [
    "above is code for calculating the number of parity bits, the location of the parity bits, the value of the parity bits as well as detecting errors in the data. Simulation of the performance will be done below\n"
   ]
  },
  {
   "cell_type": "code",
   "execution_count": 10,
   "id": "67b00841",
   "metadata": {},
   "outputs": [
    {
     "name": "stdout",
     "output_type": "stream",
     "text": [
      "input = Bool[0, 0, 1, 1, 0, 1, 1, 1, 0, 0, 0, 0, 1, 0, 1, 0, 0, 1, 1, 0, 1, 0, 1, 1, 0, 0, 1, 1, 1, 1, 0, 1, 0, 1, 0, 0, 1, 1, 0, 0, 1, 1, 0, 0, 1, 0, 1, 0, 1, 0, 0, 0, 1, 1, 0, 0, 0, 1, 0, 1, 0, 0, 1, 0, 0, 0, 0, 1, 0, 1, 1, 0, 1, 0, 1, 0, 1, 0, 0, 1, 1, 1, 0, 0, 0, 0, 1, 0, 0, 1, 0, 0, 1, 0, 1, 0, 1, 0, 1, 1, 1, 1, 0, 1, 1]\n"
     ]
    },
    {
     "data": {
      "text/plain": [
       "105-element BitVector:\n",
       " 0\n",
       " 0\n",
       " 1\n",
       " 1\n",
       " 0\n",
       " 1\n",
       " 1\n",
       " 1\n",
       " 0\n",
       " 0\n",
       " 0\n",
       " 0\n",
       " 1\n",
       " ⋮\n",
       " 0\n",
       " 1\n",
       " 0\n",
       " 1\n",
       " 0\n",
       " 1\n",
       " 1\n",
       " 1\n",
       " 1\n",
       " 0\n",
       " 1\n",
       " 1"
      ]
     },
     "execution_count": 10,
     "metadata": {},
     "output_type": "execute_result"
    }
   ],
   "source": [
    "rng = MersenneTwister(1234)\n",
    "# mutiple of 7,use 7*15 105 for now\n",
    "input = bitrand(rng,105)\n",
    "@show input"
   ]
  },
  {
   "cell_type": "code",
   "execution_count": 11,
   "id": "59957370",
   "metadata": {},
   "outputs": [
    {
     "name": "stdout",
     "output_type": "stream",
     "text": [
      "encoded = [0.0, 0.0, 1.0, 1.0, 1.0, 0.0, 1.0, 0.0, 1.0, 0.0, 0.0, 1.0, 0.0, 0.0, 1.0, 0.0, 0.0, 1.0, 1.0, 0.0, 1.0, 0.0, 1.0, 0.0, 0.0, 1.0, 1.0, 1.0, 0.0, 0.0, 1.0, 0.0, 1.0, 0.0, 1.0, 1.0, 0.0, 0.0, 0.0, 1.0, 1.0, 1.0, 0.0, 1.0, 1.0, 1.0, 0.0, 0.0, 1.0, 0.0, 1.0, 0.0, 0.0, 1.0, 1.0, 0.0, 1.0, 1.0, 0.0, 0.0, 0.0, 1.0, 1.0, 1.0, 0.0, 1.0, 0.0, 0.0, 1.0, 1.0, 0.0, 1.0, 0.0, 1.0, 1.0, 0.0, 0.0, 0.0, 0.0, 0.0, 0.0, 1.0, 1.0, 0.0, 0.0, 0.0, 0.0, 1.0, 0.0, 1.0, 0.0, 1.0, 1.0, 0.0, 0.0, 1.0, 1.0, 1.0, 0.0, 0.0, 0.0, 0.0, 0.0, 0.0, 1.0, 0.0, 1.0, 1.0, 0.0, 1.0, 1.0, 0.0, 1.0, 0.0, 0.0, 1.0, 0.0, 1.0, 1.0, 1.0, 1.0, 0.0, 0.0, 1.0, 1.0, 1.0, 1.0, 0.0, 0.0, 0.0, 0.0, 0.0, 0.0, 0.0, 1.0, 1.0, 0.0, 0.0, 1.0, 1.0, 0.0, 0.0, 0.0, 0.0, 1.0, 0.0, 1.0, 1.0, 0.0, 1.0, 0.0, 0.0, 0.0, 0.0, 1.0, 1.0, 1.0, 1.0, 1.0, 0.0, 1.0, 0.0, 1.0, 0.0, 1.0]\n"
     ]
    },
    {
     "data": {
      "text/plain": [
       "165-element Vector{Float64}:\n",
       " 0.0\n",
       " 0.0\n",
       " 1.0\n",
       " 1.0\n",
       " 1.0\n",
       " 0.0\n",
       " 1.0\n",
       " 0.0\n",
       " 1.0\n",
       " 0.0\n",
       " 0.0\n",
       " 1.0\n",
       " 0.0\n",
       " ⋮\n",
       " 0.0\n",
       " 1.0\n",
       " 1.0\n",
       " 1.0\n",
       " 1.0\n",
       " 1.0\n",
       " 0.0\n",
       " 1.0\n",
       " 0.0\n",
       " 1.0\n",
       " 0.0\n",
       " 1.0"
      ]
     },
     "execution_count": 11,
     "metadata": {},
     "output_type": "execute_result"
    }
   ],
   "source": [
    "# for every 7 bits 4 parity bits will be added so new array is (7+4)*15 =165\n",
    "# 1 8 15 22\n",
    "\n",
    "encoded = zeros(165)\n",
    "cal = zeros(11)\n",
    "for i in 1:15\n",
    "    b = pos_red(input[7*(i-1)+1:7*(i-1)+7],4)\n",
    "    encoded[11*(i-1)+1:11*(i-1)+11] = par2(b,4)\n",
    "end\n",
    "\n",
    "@show encoded"
   ]
  },
  {
   "cell_type": "code",
   "execution_count": 12,
   "id": "d1be3855",
   "metadata": {},
   "outputs": [
    {
     "name": "stdout",
     "output_type": "stream",
     "text": [
      "sent = [-1.0, -1.0, 1.0, 1.0, 1.0, -1.0, 1.0, -1.0, 1.0, -1.0, -1.0, 1.0, -1.0, -1.0, 1.0, -1.0, -1.0, 1.0, 1.0, -1.0, 1.0, -1.0, 1.0, -1.0, -1.0, 1.0, 1.0, 1.0, -1.0, -1.0, 1.0, -1.0, 1.0, -1.0, 1.0, 1.0, -1.0, -1.0, -1.0, 1.0, 1.0, 1.0, -1.0, 1.0, 1.0, 1.0, -1.0, -1.0, 1.0, -1.0, 1.0, -1.0, -1.0, 1.0, 1.0, -1.0, 1.0, 1.0, -1.0, -1.0, -1.0, 1.0, 1.0, 1.0, -1.0, 1.0, -1.0, -1.0, 1.0, 1.0, -1.0, 1.0, -1.0, 1.0, 1.0, -1.0, -1.0, -1.0, -1.0, -1.0, -1.0, 1.0, 1.0, -1.0, -1.0, -1.0, -1.0, 1.0, -1.0, 1.0, -1.0, 1.0, 1.0, -1.0, -1.0, 1.0, 1.0, 1.0, -1.0, -1.0, -1.0, -1.0, -1.0, -1.0, 1.0, -1.0, 1.0, 1.0, -1.0, 1.0, 1.0, -1.0, 1.0, -1.0, -1.0, 1.0, -1.0, 1.0, 1.0, 1.0, 1.0, -1.0, -1.0, 1.0, 1.0, 1.0, 1.0, -1.0, -1.0, -1.0, -1.0, -1.0, -1.0, -1.0, 1.0, 1.0, -1.0, -1.0, 1.0, 1.0, -1.0, -1.0, -1.0, -1.0, 1.0, -1.0, 1.0, 1.0, -1.0, 1.0, -1.0, -1.0, -1.0, -1.0, 1.0, 1.0, 1.0, 1.0, 1.0, -1.0, 1.0, -1.0, 1.0, -1.0, 1.0]\n"
     ]
    },
    {
     "data": {
      "text/plain": [
       "165-element Vector{Float64}:\n",
       " -1.0\n",
       " -1.0\n",
       "  1.0\n",
       "  1.0\n",
       "  1.0\n",
       " -1.0\n",
       "  1.0\n",
       " -1.0\n",
       "  1.0\n",
       " -1.0\n",
       " -1.0\n",
       "  1.0\n",
       " -1.0\n",
       "  ⋮\n",
       " -1.0\n",
       "  1.0\n",
       "  1.0\n",
       "  1.0\n",
       "  1.0\n",
       "  1.0\n",
       " -1.0\n",
       "  1.0\n",
       " -1.0\n",
       "  1.0\n",
       " -1.0\n",
       "  1.0"
      ]
     },
     "execution_count": 12,
     "metadata": {},
     "output_type": "execute_result"
    }
   ],
   "source": [
    "sent = zeros(length(encoded))\n",
    "for i in 1:length(encoded)\n",
    "    if encoded[i] == 0\n",
    "        sent[i] = -1\n",
    "    else\n",
    "        sent[i] = 1\n",
    "    end\n",
    "end\n",
    "\n",
    "@show sent"
   ]
  },
  {
   "cell_type": "code",
   "execution_count": 25,
   "id": "b163531d",
   "metadata": {},
   "outputs": [
    {
     "name": "stdout",
     "output_type": "stream",
     "text": [
      "sent_noise = [-2.0968221003896703, -1.2286194664506993, 0.600047664093601, 1.5326614042669076, 0.7399687348451398, -1.2605014633977272, 0.7289802478488282, -0.6907287914386218, 1.1486652111830375, -1.5907585324855615, -1.855054131262436, 2.0375254184158242, -1.47297957391258, -0.6145267334972613, 1.7427301499228394, -0.19416303594946782, -0.3516190743621168, 2.0110351798557, 2.009056182364784, -0.796320841064431, 0.8263314768259631, 0.025432176189893685, 0.09132198211588327, -2.055836174532099, -1.6942454218221275, 0.30463613908363163, 1.3044658214469251, 1.35558808585762, -0.5211187152286696, -0.33077475414076296, 0.7031181844081997, -1.174568135669408, 0.17416753367252213, -0.42360900496837695, 0.417606012213694, 0.1643790602377454, 0.11657251385002776, -0.38436219055902265, -0.24718016531960385, 1.154846595536425, 1.040761339482525, 1.5150650862897743, -1.9079719751830333, 0.4060505351479218, -0.09369320048544183, 0.4887589151838463, -0.6461394749543079, -1.6664812267441196, 1.9431255076521872, -1.1033254249208138, 0.7524468509024873, -1.8274048396830014, -1.0433414082697472, 0.6173798741922846, 1.6059619070594717, 0.00877482910604388, 1.400425824167219, 0.3717636013259268, -1.6029946375128046, -0.8389805155864825, -1.2936161826076606, 0.2100669063156102, 1.987912082818843, 1.455810066424135, -1.2194754168870514, 0.46420170488531065, -1.8906970654256592, -1.3431412199629595, 1.226972551531395, 1.600095542625731, -2.107027372558817, 0.2787067187239979, -1.2777319058322452, -0.08409558854110033, 0.3380996500942056, -0.13268185995448678, -0.6580580765657484, -0.5060673998599241, -0.18769804306852222, -0.7254652179513019, -0.4348341217816387, 0.5064279163219941, 0.35621351328736317, -1.7918815240261556, 0.02428215632857178, -0.3615343133379133, -1.5054710409467562, 1.4017322178949527, -1.1216744460564718, 0.2057750435453839, -1.5906293242032297, 1.545301494602775, 1.8144989759204742, -0.42578711375586964, -0.369205050455095, 0.2251820106846978, 0.7088872435173894, 0.5575284840131439, -0.3671449071491554, -0.09893243262766438, -0.6472275155430471, -0.8817969843298202, -2.001748333084744, -0.1799669955717167, 0.667478469311036, -0.5533126048976673, 1.3053376947209756, 1.3203287326947177, -0.5688957205845235, 0.04934689238217094, 0.0812845804771547, -0.584376213092715, 1.7762775076402182, -0.6930473294818669, -1.392130143416668, 0.6253460086183674, -2.083303747596393, 2.0808498077696056, 0.34773825119533286, 1.5002810609387651, 1.576896829074873, -0.02070902227782645, -1.5385087376480193, 0.6951528704441536, 0.29816614741692504, 1.918323895269852, 1.2266026113194965, -0.3190868800443808, -1.970700957019229, 0.026375689232184696, -1.3990476008836537, -2.0703808593863178, -0.9689202792525082, -1.8106795648631047, -0.02285574453604733, 2.0039200987889525, -1.5505579467281234, -1.1981728105501437, 1.357615319526503, 0.8286430308829449, -0.9383833551930602, -0.916877162675708, -1.692121871679008, -1.613724532695004, 1.84179812586787, -1.6358410023596313, 1.959727796180986, 1.1520765609846888, -1.8869012154250249, -0.11355204369875915, 0.09723601954064476, -0.7099222664447163, -0.36212861675742203, -0.22131207663925978, 0.7331001646223527, -0.0046898601363820624, 1.3030842552219102, 0.9678078056493903, 1.4898059165456876, -0.460328944520464, 1.552983119815899, -0.71559755417577, 1.3012914583904929, -0.8762783791585773, -0.06863930101577309]\n"
     ]
    },
    {
     "data": {
      "text/plain": [
       "165-element Vector{Float64}:\n",
       " -2.0968221003896703\n",
       " -1.2286194664506993\n",
       "  0.600047664093601\n",
       "  1.5326614042669076\n",
       "  0.7399687348451398\n",
       " -1.2605014633977272\n",
       "  0.7289802478488282\n",
       " -0.6907287914386218\n",
       "  1.1486652111830375\n",
       " -1.5907585324855615\n",
       " -1.855054131262436\n",
       "  2.0375254184158242\n",
       " -1.47297957391258\n",
       "  ⋮\n",
       " -0.22131207663925978\n",
       "  0.7331001646223527\n",
       " -0.0046898601363820624\n",
       "  1.3030842552219102\n",
       "  0.9678078056493903\n",
       "  1.4898059165456876\n",
       " -0.460328944520464\n",
       "  1.552983119815899\n",
       " -0.71559755417577\n",
       "  1.3012914583904929\n",
       " -0.8762783791585773\n",
       " -0.06863930101577309"
      ]
     },
     "execution_count": 25,
     "metadata": {},
     "output_type": "execute_result"
    }
   ],
   "source": [
    "# now add noise to the sent signal\n",
    "#this isnt working too nicely\n",
    "b = rand(Uniform(-1,1),length(encoded))\n",
    "SNR = -4\n",
    "sigma = 1/sqrt(10^(SNR/10)*2)\n",
    "#make a term for the snr\n",
    "b = b*sigma\n",
    "sent_noise = sent+b\n",
    "\n",
    "@show sent_noise"
   ]
  },
  {
   "cell_type": "code",
   "execution_count": 26,
   "id": "d2ee456e",
   "metadata": {},
   "outputs": [
    {
     "name": "stdout",
     "output_type": "stream",
     "text": [
      "encoded = [0.0, 0.0, 1.0, 1.0, 1.0, 0.0, 1.0, 0.0, 1.0, 0.0, 0.0, 1.0, 0.0, 0.0, 1.0, 0.0, 0.0, 1.0, 1.0, 0.0, 1.0, 0.0, 1.0, 0.0, 0.0, 1.0, 1.0, 1.0, 0.0, 0.0, 1.0, 0.0, 1.0, 0.0, 1.0, 1.0, 0.0, 0.0, 0.0, 1.0, 1.0, 1.0, 0.0, 1.0, 1.0, 1.0, 0.0, 0.0, 1.0, 0.0, 1.0, 0.0, 0.0, 1.0, 1.0, 0.0, 1.0, 1.0, 0.0, 0.0, 0.0, 1.0, 1.0, 1.0, 0.0, 1.0, 0.0, 0.0, 1.0, 1.0, 0.0, 1.0, 0.0, 1.0, 1.0, 0.0, 0.0, 0.0, 0.0, 0.0, 0.0, 1.0, 1.0, 0.0, 0.0, 0.0, 0.0, 1.0, 0.0, 1.0, 0.0, 1.0, 1.0, 0.0, 0.0, 1.0, 1.0, 1.0, 0.0, 0.0, 0.0, 0.0, 0.0, 0.0, 1.0, 0.0, 1.0, 1.0, 0.0, 1.0, 1.0, 0.0, 1.0, 0.0, 0.0, 1.0, 0.0, 1.0, 1.0, 1.0, 1.0, 0.0, 0.0, 1.0, 1.0, 1.0, 1.0, 0.0, 0.0, 0.0, 0.0, 0.0, 0.0, 0.0, 1.0, 1.0, 0.0, 0.0, 1.0, 1.0, 0.0, 0.0, 0.0, 0.0, 1.0, 0.0, 1.0, 1.0, 0.0, 1.0, 0.0, 0.0, 0.0, 0.0, 1.0, 1.0, 1.0, 1.0, 1.0, 0.0, 1.0, 0.0, 1.0, 0.0, 1.0]\n",
      "rec = [0.0, 0.0, 1.0, 1.0, 1.0, 0.0, 1.0, 0.0, 1.0, 0.0, 0.0, 1.0, 0.0, 0.0, 1.0, 0.0, 0.0, 1.0, 1.0, 0.0, 1.0, 1.0, 1.0, 0.0, 0.0, 1.0, 1.0, 1.0, 0.0, 0.0, 1.0, 0.0, 1.0, 0.0, 1.0, 1.0, 1.0, 0.0, 0.0, 1.0, 1.0, 1.0, 0.0, 1.0, 0.0, 1.0, 0.0, 0.0, 1.0, 0.0, 1.0, 0.0, 0.0, 1.0, 1.0, 1.0, 1.0, 1.0, 0.0, 0.0, 0.0, 1.0, 1.0, 1.0, 0.0, 1.0, 0.0, 0.0, 1.0, 1.0, 0.0, 1.0, 0.0, 0.0, 1.0, 0.0, 0.0, 0.0, 0.0, 0.0, 0.0, 1.0, 1.0, 0.0, 1.0, 0.0, 0.0, 1.0, 0.0, 1.0, 0.0, 1.0, 1.0, 0.0, 0.0, 1.0, 1.0, 1.0, 0.0, 0.0, 0.0, 0.0, 0.0, 0.0, 1.0, 0.0, 1.0, 1.0, 0.0, 1.0, 1.0, 0.0, 1.0, 0.0, 0.0, 1.0, 0.0, 1.0, 1.0, 1.0, 1.0, 0.0, 0.0, 1.0, 1.0, 1.0, 1.0, 0.0, 0.0, 1.0, 0.0, 0.0, 0.0, 0.0, 0.0, 1.0, 0.0, 0.0, 1.0, 1.0, 0.0, 0.0, 0.0, 0.0, 1.0, 0.0, 1.0, 1.0, 0.0, 0.0, 1.0, 0.0, 0.0, 0.0, 1.0, 0.0, 1.0, 1.0, 1.0, 0.0, 1.0, 0.0, 1.0, 0.0, 0.0]\n"
     ]
    },
    {
     "data": {
      "text/plain": [
       "165-element Vector{Float64}:\n",
       " 0.0\n",
       " 0.0\n",
       " 1.0\n",
       " 1.0\n",
       " 1.0\n",
       " 0.0\n",
       " 1.0\n",
       " 0.0\n",
       " 1.0\n",
       " 0.0\n",
       " 0.0\n",
       " 1.0\n",
       " 0.0\n",
       " ⋮\n",
       " 0.0\n",
       " 1.0\n",
       " 0.0\n",
       " 1.0\n",
       " 1.0\n",
       " 1.0\n",
       " 0.0\n",
       " 1.0\n",
       " 0.0\n",
       " 1.0\n",
       " 0.0\n",
       " 0.0"
      ]
     },
     "execution_count": 26,
     "metadata": {},
     "output_type": "execute_result"
    }
   ],
   "source": [
    "# now demod and make a decision\n",
    "rec = zeros(length(sent_noise))\n",
    "\n",
    "for i in 1:length(sent_noise)\n",
    "    if sent_noise[i]>0\n",
    "        rec[i] = 1\n",
    "    else\n",
    "        rec[i] = 0\n",
    "    end\n",
    "end\n",
    "\n",
    "@show encoded\n",
    "@show rec"
   ]
  },
  {
   "cell_type": "code",
   "execution_count": 27,
   "id": "c495aca8",
   "metadata": {},
   "outputs": [
    {
     "name": "stdout",
     "output_type": "stream",
     "text": [
      "there are 12 errors"
     ]
    }
   ],
   "source": [
    "#calcuting the difference between the encoded signal and the demod signal \n",
    "count = 0\n",
    "for i in 1:length(rec)\n",
    "    if rec[i]!=encoded[i]\n",
    "        count+=1\n",
    "    end\n",
    "end\n",
    "\n",
    "print(\"there are \",count,\" errors\")"
   ]
  },
  {
   "cell_type": "code",
   "execution_count": 49,
   "id": "10298468",
   "metadata": {},
   "outputs": [
    {
     "name": "stdout",
     "output_type": "stream",
     "text": [
      "0 1 0 8 11 11 4 4 0 0 0 3 9 1 11 \n",
      "[0.0, 0.0, 0.0, 0.0, 0.0, 1.0, 0.0, 1.0, 1.0, 0.0, 1.0]-[0.0, 0.0, 0.0, 0.0, 0.0, 1.0, 0.0, 1.0, 1.0, 0.0, 1.0]"
     ]
    }
   ],
   "source": [
    "# now lets apply the detection algorithm to see how many errors are detected then correct thos errors and see\n",
    "# actual amount of errors afterwords\n",
    "n = length(rec)\n",
    "corrected = rec\n",
    "for i in 1:15\n",
    "    b = err_detect1(rec[11*(i-1)+1:11*(i-1)+11],4)\n",
    "    print(Int(b),\" \")\n",
    "end\n",
    "println()\n",
    "print(rec[100:110])\n",
    "print(\"-\", encoded[100:110])"
   ]
  },
  {
   "cell_type": "code",
   "execution_count": null,
   "id": "9afe6972",
   "metadata": {},
   "outputs": [],
   "source": []
  }
 ],
 "metadata": {
  "kernelspec": {
   "display_name": "Julia 1.6.2",
   "language": "julia",
   "name": "julia-1.6"
  },
  "language_info": {
   "file_extension": ".jl",
   "mimetype": "application/julia",
   "name": "julia",
   "version": "1.6.2"
  }
 },
 "nbformat": 4,
 "nbformat_minor": 5
}
