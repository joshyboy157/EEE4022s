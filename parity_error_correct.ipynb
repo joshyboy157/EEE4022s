{
 "cells": [
  {
   "cell_type": "markdown",
   "id": "4a4fa68c",
   "metadata": {},
   "source": [
    "rectangular error correcting code\n",
    "\n",
    "* * * 1\n",
    "* * * 1\n",
    "* * * 1\n",
    "1 1 1\n",
    "\n",
    "\n",
    "can detect can do 3 by 3 blocks to start and start "
   ]
  },
  {
   "cell_type": "code",
   "execution_count": 1,
   "id": "af4e634f",
   "metadata": {},
   "outputs": [
    {
     "name": "stdout",
     "output_type": "stream",
     "text": [
      "input = Bool[0, 0, 1, 1, 0, 1, 1, 1, 0, 0, 0, 0, 1, 0, 1, 0, 0, 1, 1, 0, 1, 0, 1, 1, 0, 0, 1, 1, 1, 1, 0, 1, 0, 1, 0, 0, 1, 1, 0, 0, 1, 1, 0, 0, 1, 0, 1, 0, 1, 0, 0, 0, 1, 1, 0, 0, 0, 1, 0, 1, 0, 0, 1, 0, 0, 0, 0, 1, 0, 1, 1, 0, 1, 0, 1, 0, 1, 0, 0, 1, 1, 1, 0, 0, 0, 0, 1, 0, 0, 1]\n"
     ]
    },
    {
     "data": {
      "text/plain": [
       "90-element BitVector:\n",
       " 0\n",
       " 0\n",
       " 1\n",
       " 1\n",
       " 0\n",
       " 1\n",
       " 1\n",
       " 1\n",
       " 0\n",
       " 0\n",
       " 0\n",
       " 0\n",
       " 1\n",
       " ⋮\n",
       " 0\n",
       " 1\n",
       " 1\n",
       " 1\n",
       " 0\n",
       " 0\n",
       " 0\n",
       " 0\n",
       " 1\n",
       " 0\n",
       " 0\n",
       " 1"
      ]
     },
     "execution_count": 1,
     "metadata": {},
     "output_type": "execute_result"
    }
   ],
   "source": [
    "using Random\n",
    "using Distributions\n",
    "rng = MersenneTwister(1234)\n",
    "input = bitrand(rng,90)\n",
    "@show input"
   ]
  },
  {
   "cell_type": "code",
   "execution_count": null,
   "id": "761d0d02",
   "metadata": {},
   "outputs": [],
   "source": [
    "row1 = zeros(4)\n",
    "row2 = zeros(4)\n",
    "row3 = zeros(4)\n",
    "row4 = zeros(4)\n"
   ]
  }
 ],
 "metadata": {
  "kernelspec": {
   "display_name": "Julia 1.6.2",
   "language": "julia",
   "name": "julia-1.6"
  },
  "language_info": {
   "file_extension": ".jl",
   "mimetype": "application/julia",
   "name": "julia",
   "version": "1.6.2"
  }
 },
 "nbformat": 4,
 "nbformat_minor": 5
}
